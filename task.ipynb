{
  "nbformat": 4,
  "nbformat_minor": 0,
  "metadata": {
    "colab": {
      "provenance": []
    },
    "kernelspec": {
      "name": "python3",
      "display_name": "Python 3"
    },
    "language_info": {
      "name": "python"
    }
  },
  "cells": [
    {
      "cell_type": "markdown",
      "source": [
        "# Import necessary libraries\n"
      ],
      "metadata": {
        "id": "IPj5B-ksJDzQ"
      }
    },
    {
      "cell_type": "code",
      "execution_count": null,
      "metadata": {
        "id": "aRSljEaUJDEf"
      },
      "outputs": [],
      "source": [
        "import pandas as pd\n",
        "import matplotlib.pyplot as plt\n",
        "import seaborn as sns"
      ]
    },
    {
      "cell_type": "markdown",
      "source": [
        "# Load the dataset\n"
      ],
      "metadata": {
        "id": "CgWLDzVvJSrj"
      }
    },
    {
      "cell_type": "code",
      "source": [
        "file_path = 'Salaries.csv'\n",
        "df = pd.read_csv(file_path)"
      ],
      "metadata": {
        "id": "cxoeYCFvJWP4"
      },
      "execution_count": null,
      "outputs": []
    },
    {
      "cell_type": "markdown",
      "source": [
        "# Basic Data Exploration"
      ],
      "metadata": {
        "id": "gozRejRgJdmV"
      }
    },
    {
      "cell_type": "code",
      "source": [
        "num_rows, num_cols = df.shape\n",
        "data_types = df.dtypes\n",
        "missing_values = df.isnull().sum()"
      ],
      "metadata": {
        "id": "AWJCOwBlJsB5"
      },
      "execution_count": null,
      "outputs": []
    },
    {
      "cell_type": "markdown",
      "source": [
        "# Descriptive Statistics\n"
      ],
      "metadata": {
        "id": "8wkVP9lNKIGp"
      }
    },
    {
      "cell_type": "code",
      "source": [
        "basic_stats = df['TotalPay'].describe()"
      ],
      "metadata": {
        "id": "rDWwvv8eKJxF"
      },
      "execution_count": null,
      "outputs": []
    },
    {
      "cell_type": "markdown",
      "source": [
        "# Data Cleaning\n"
      ],
      "metadata": {
        "id": "mhk9BKn9KQcm"
      }
    },
    {
      "cell_type": "markdown",
      "source": [
        "Explanation:\n",
        "\n",
        "Mean-It is preferred if data is numeric and not skewed."
      ],
      "metadata": {
        "id": "N37uziXrKVNC"
      }
    },
    {
      "cell_type": "code",
      "source": [
        "df['TotalPay'].fillna(df['TotalPay'].mean(), inplace=True)"
      ],
      "metadata": {
        "id": "-MD_DHoTKTkG"
      },
      "execution_count": null,
      "outputs": []
    },
    {
      "cell_type": "markdown",
      "source": [
        "# Basic Data Visualization\n"
      ],
      "metadata": {
        "id": "zcU-NI9zLI2K"
      }
    },
    {
      "cell_type": "code",
      "source": [
        "plt.figure(figsize=(10, 6))\n",
        "sns.histplot(df['TotalPay'], bins=30, kde=True)\n",
        "plt.title('Distribution of Salaries')\n",
        "plt.xlabel('TotalPay')\n",
        "plt.ylabel('Frequency')\n",
        "plt.show()"
      ],
      "metadata": {
        "id": "Bh_ssuBbLNkh"
      },
      "execution_count": null,
      "outputs": []
    },
    {
      "cell_type": "code",
      "source": [
        "job_title_counts = df['JobTitle'].value_counts()\n",
        "plt.figure(figsize=(10, 10))\n",
        "plt.pie(job_title_counts, labels=job_title_counts.index, autopct='%1.1f%%', startangle=90)\n",
        "plt.title('Proportion of Employees in Different Departments')\n",
        "plt.show()"
      ],
      "metadata": {
        "id": "veIJnWfsLXeH"
      },
      "execution_count": null,
      "outputs": []
    },
    {
      "cell_type": "markdown",
      "source": [
        "# Grouped Analysis\n"
      ],
      "metadata": {
        "id": "wTZWelQmLY4X"
      }
    },
    {
      "cell_type": "code",
      "source": [
        "grouped_data = df.groupby('JobTitle')['TotalPay'].mean()\n"
      ],
      "metadata": {
        "id": "3x_N68PhLgFu"
      },
      "execution_count": null,
      "outputs": []
    },
    {
      "cell_type": "markdown",
      "source": [
        "# Simple Correlation Analysis\n"
      ],
      "metadata": {
        "id": "DHOtC1e_Lja8"
      }
    },
    {
      "cell_type": "code",
      "source": [
        "correlation = df['TotalPay'].corr(df['BasePay'])\n",
        "plt.figure(figsize=(8, 6))\n",
        "sns.scatterplot(x='BasePay', y='TotalPay', data=df)\n",
        "plt.title(f'Scatter Plot of Salary vs BasePay (Correlation: {correlation:.2f})')\n",
        "plt.xlabel('BasePay')\n",
        "plt.ylabel('TotalPay')\n",
        "plt.show()"
      ],
      "metadata": {
        "id": "9ptDspVLLlDx"
      },
      "execution_count": null,
      "outputs": []
    }
  ]
}